{
 "cells": [
  {
   "cell_type": "code",
   "execution_count": null,
   "id": "363d8953",
   "metadata": {},
   "outputs": [],
   "source": [
    "# File and folder paths\n",
    "dirpath = 'data'\n",
    "out_fp = 'data'\n",
    "\n",
    "# Make a search criteria to select the DEM files\n",
    "search_criteria = 'usgs*.tif'\n",
    "\n",
    "q = os.path.join(dirpath, search_criteria)\n",
    "\n",
    "print(q)"
   ]
  },
  {
   "cell_type": "code",
   "execution_count": null,
   "id": "1f0c7ce9",
   "metadata": {},
   "outputs": [],
   "source": [
    "dems = glob.glob(q)"
   ]
  },
  {
   "cell_type": "code",
   "execution_count": null,
   "id": "33b4a000",
   "metadata": {},
   "outputs": [],
   "source": [
    "#create an empty list of arrays\n",
    "dems_to_merge = []"
   ]
  },
  {
   "cell_type": "code",
   "execution_count": null,
   "id": "8cf90cd3",
   "metadata": {},
   "outputs": [],
   "source": [
    "#create a list of elev files\n",
    "for f in dems:\n",
    "    dem = rxr.open_rasterio(f)\n",
    "    dems_to_merge.append(dem)"
   ]
  },
  {
   "cell_type": "code",
   "execution_count": null,
   "id": "cbda2d4f",
   "metadata": {},
   "outputs": [],
   "source": [
    "#merge via xarray\n",
    "rxr_dems = merge_arrays(dems_to_merge)"
   ]
  },
  {
   "cell_type": "code",
   "execution_count": null,
   "id": "9ab42022",
   "metadata": {},
   "outputs": [],
   "source": [
    "type(rxr_dems)"
   ]
  },
  {
   "cell_type": "code",
   "execution_count": null,
   "id": "d1db41c1",
   "metadata": {},
   "outputs": [],
   "source": []
  },
  {
   "cell_type": "code",
   "execution_count": null,
   "id": "51ca9b7d",
   "metadata": {},
   "outputs": [],
   "source": []
  }
 ],
 "metadata": {
  "kernelspec": {
   "display_name": "Python 3 (ipykernel)",
   "language": "python",
   "name": "python3"
  },
  "language_info": {
   "codemirror_mode": {
    "name": "ipython",
    "version": 3
   },
   "file_extension": ".py",
   "mimetype": "text/x-python",
   "name": "python",
   "nbconvert_exporter": "python",
   "pygments_lexer": "ipython3",
   "version": "3.8.12"
  }
 },
 "nbformat": 4,
 "nbformat_minor": 5
}
