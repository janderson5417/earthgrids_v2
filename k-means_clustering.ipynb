{
 "cells": [
  {
   "cell_type": "code",
   "execution_count": 16,
   "id": "c10081ec",
   "metadata": {},
   "outputs": [],
   "source": [
    "import sys\n",
    "import pandas as pd\n",
    "import numpy as np\n",
    "import matplotlib\n",
    "import scipy\n",
    "import sklearn"
   ]
  },
  {
   "cell_type": "code",
   "execution_count": 23,
   "id": "62600baf",
   "metadata": {},
   "outputs": [
    {
     "name": "stdout",
     "output_type": "stream",
     "text": [
      "Python 3.8.12 | packaged by conda-forge | (default, Oct 12 2021, 21:50:38) \n",
      "[Clang 11.1.0 ]\n",
      "scipy 1.7.3\n",
      "numpy 1.20.3\n",
      "matplotlib 3.5.1\n",
      "pandas 1.3.4\n",
      "sklearn 1.0.1\n"
     ]
    }
   ],
   "source": [
    "print('Python {0}'.format(sys.version))\n",
    "print('scipy {0}'.format(scipy.__version__))\n",
    "print('numpy {0}'.format(np.__version__))\n",
    "print('matplotlib {0}'.format(matplotlib.__version__))\n",
    "print('pandas {0}'.format(pd.__version__))\n",
    "print('sklearn {0}'.format(sklearn.__version__))"
   ]
  },
  {
   "cell_type": "code",
   "execution_count": 20,
   "id": "42d5078c",
   "metadata": {
    "scrolled": true
   },
   "outputs": [],
   "source": [
    "from sklearn.cluster import KMeans"
   ]
  },
  {
   "cell_type": "code",
   "execution_count": 21,
   "id": "4f276148",
   "metadata": {},
   "outputs": [],
   "source": [
    "v = pd.read_csv('data/out/v.csv')"
   ]
  },
  {
   "cell_type": "code",
   "execution_count": 22,
   "id": "b4a0b995",
   "metadata": {},
   "outputs": [],
   "source": [
    "i = pd.read_csv('data/out/infra.csv')"
   ]
  },
  {
   "cell_type": "code",
   "execution_count": null,
   "id": "d0227641",
   "metadata": {},
   "outputs": [],
   "source": []
  }
 ],
 "metadata": {
  "kernelspec": {
   "display_name": "Python 3 (ipykernel)",
   "language": "python",
   "name": "python3"
  },
  "language_info": {
   "codemirror_mode": {
    "name": "ipython",
    "version": 3
   },
   "file_extension": ".py",
   "mimetype": "text/x-python",
   "name": "python",
   "nbconvert_exporter": "python",
   "pygments_lexer": "ipython3",
   "version": "3.8.12"
  }
 },
 "nbformat": 4,
 "nbformat_minor": 5
}
