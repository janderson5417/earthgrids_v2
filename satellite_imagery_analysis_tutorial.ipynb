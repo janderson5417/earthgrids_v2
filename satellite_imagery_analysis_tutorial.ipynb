{
 "cells": [
  {
   "cell_type": "code",
   "execution_count": 3,
   "id": "5d71e9f8",
   "metadata": {},
   "outputs": [],
   "source": [
    "# import os\n",
    "# from ftplib import FTP\n",
    "\n",
    "# def grabFile(filename): # FTP download and save function\n",
    "#     # if the file already exists, skip it\n",
    "#     if os.path.isfile(local_dir+'/'+filename):\n",
    "#         return\n",
    "    \n",
    "#     localfile = open(local_dir+'/'+filename, 'wb') # local download\n",
    "#     ftp.retrbinary('RETR ' + filename, localfile.write, 1024) # FTP saver\n",
    "\n",
    "#     localfile.close() # close local file\n",
    "    \n",
    "# ftp = FTP('ftp.avl.class.noaa.gov')  # connect to NOAA's FTP\n",
    "# ftp.login() # login anonymously\n",
    "# ftp.cwd('./8152909373') # navigate to exact FTP folder where data is located\n",
    "\n",
    "# files = ftp.nlst() # collect file names into vector\n",
    "\n",
    "# print(files)\n",
    "\n",
    "# # Creates a local GOES repository in the current directory\n",
    "# local_dir = '/Users/jen/GitHub/GOES_files'\n",
    "# if os.path.isdir(local_dir)==False:\n",
    "#     os.mkdir(local_dir)\n",
    "\n",
    "# # loop through files and save them one-by-one\n",
    "# for filename in files:\n",
    "#     grabFile(filename)\n",
    "\n",
    "# ftp.quit() # close FTP connection"
   ]
  },
  {
   "cell_type": "code",
   "execution_count": 1,
   "id": "faebe806",
   "metadata": {},
   "outputs": [],
   "source": [
    "import os\n",
    "from netCDF4 import Dataset # netCDF library\n",
    "\n",
    "local_dir = 'data/GOES_files'\n",
    "if os.path.isdir(local_dir):\n",
    "    files = os.listdir(local_dir)\n",
    "else:\n",
    "    print('No GOES files in directory')\n",
    "\n",
    "file = Dataset(local_dir+'/'+files[0]) # open local netCDF GOES file"
   ]
  },
  {
   "cell_type": "code",
   "execution_count": 11,
   "id": "1d942066",
   "metadata": {},
   "outputs": [
    {
     "data": {
      "text/plain": [
       "'data/GOES_files'"
      ]
     },
     "execution_count": 11,
     "metadata": {},
     "output_type": "execute_result"
    }
   ],
   "source": [
    "local_dir"
   ]
  },
  {
   "cell_type": "code",
   "execution_count": 2,
   "id": "15fc59dc",
   "metadata": {},
   "outputs": [
    {
     "data": {
      "text/plain": [
       "\"The Land Surface (Skin) Temperature product consists of pixels containing the skin temperatures for each 'clear' or 'probably clear' land surface pixel. This product is generated from a regression algorithm that linearly combines ABI surface emissivity data, brightness temperature, and brightness temperature differences derived from top of atmosphere radiances from ABI bands with wavelengths 11.19 and 12.27 um. Product data is generated both day and night.\""
      ]
     },
     "execution_count": 2,
     "metadata": {},
     "output_type": "execute_result"
    }
   ],
   "source": [
    "file.summary"
   ]
  },
  {
   "cell_type": "code",
   "execution_count": 3,
   "id": "389e7791",
   "metadata": {},
   "outputs": [
    {
     "name": "stdout",
     "output_type": "stream",
     "text": [
      "LST\n",
      "DQF\n",
      "PQI\n",
      "t\n",
      "y\n",
      "x\n",
      "time_bounds\n",
      "goes_imager_projection\n",
      "y_image\n",
      "y_image_bounds\n",
      "x_image\n",
      "x_image_bounds\n",
      "nominal_satellite_subpoint_lat\n",
      "nominal_satellite_subpoint_lon\n",
      "nominal_satellite_height\n",
      "geospatial_lat_lon_extent\n",
      "retrieval_local_zenith_angle\n",
      "quantitative_local_zenith_angle\n",
      "retrieval_local_zenith_angle_bounds\n",
      "quantitative_local_zenith_angle_bounds\n",
      "solar_zenith_angle\n",
      "solar_zenith_angle_bounds\n",
      "total_pixels_where_lst_is_retrieved\n",
      "number_good_retrievals\n",
      "outlier_pixel_count\n",
      "min_lst\n",
      "max_lst\n",
      "mean_lst\n",
      "standard_deviation_lst\n",
      "FPT_mitigation_flag\n",
      "algorithm_dynamic_input_data_container\n",
      "processing_parm_version_container\n",
      "algorithm_product_version_container\n",
      "percent_uncorrectable_GRB_errors\n",
      "percent_uncorrectable_L0_errors\n"
     ]
    }
   ],
   "source": [
    "for ii in file.variables:\n",
    "    print(ii)"
   ]
  },
  {
   "cell_type": "code",
   "execution_count": 4,
   "id": "9b930db2",
   "metadata": {},
   "outputs": [
    {
     "data": {
      "text/plain": [
       "'K'"
      ]
     },
     "execution_count": 4,
     "metadata": {},
     "output_type": "execute_result"
    }
   ],
   "source": [
    "file.variables['LST'].units"
   ]
  },
  {
   "cell_type": "code",
   "execution_count": 8,
   "id": "427e7f6c",
   "metadata": {},
   "outputs": [],
   "source": [
    "# conda install basemap"
   ]
  },
  {
   "cell_type": "code",
   "execution_count": 9,
   "id": "d93dc186",
   "metadata": {},
   "outputs": [],
   "source": [
    "# conda install -c conda-forge basemap-data-hires"
   ]
  },
  {
   "cell_type": "code",
   "execution_count": 6,
   "id": "26e2dd30",
   "metadata": {
    "scrolled": true
   },
   "outputs": [],
   "source": [
    "from netCDF4 import Dataset\n",
    "import matplotlib as mpl\n",
    "mpl.use('TkAgg')\n",
    "import matplotlib.pyplot as plt\n",
    "from mpl_toolkits.basemap import Basemap\n",
    "import numpy as np\n",
    "\n",
    "bbox = [-124.763068,24.523096,-66.949895,49.384358] # map boundaries\n",
    "# figure setup\n",
    "fig,ax = plt.subplots(figsize=(9,4),dpi=200)\n",
    "ax.set_axis_off()\n",
    "# set basemap boundaries, cylindrical projection, 'i' = intermediate resolution\n",
    "m = Basemap(llcrnrlon=bbox[0],llcrnrlat=bbox[1],urcrnrlon=bbox[2],\n",
    "            urcrnrlat=bbox[3],resolution='i', projection='cyl')\n",
    "\n",
    "m.fillcontinents(color='#d9b38c',lake_color='#bdd5d5') # continent colors\n",
    "m.drawmapboundary(fill_color='#bdd5d5') # ocean color\n",
    "m.drawcoastlines() \n",
    "m.drawcountries()\n",
    "states = m.drawstates() # draw state boundaries\n",
    "# parallels = np.linspace(bbox[0],bbox[2],5.) # longitude lines\n",
    "# m.drawparallels(parallels,labels=[True,False,False,False])\n",
    "# meridians = np.linspace(bbox[1],bbox[3],5.)  # latitude lines\n",
    "# m.drawmeridians(meridians,labels=[False,False,False,True])\n",
    "\n",
    "plt.show()"
   ]
  },
  {
   "cell_type": "code",
   "execution_count": 12,
   "id": "028f116a",
   "metadata": {},
   "outputs": [
    {
     "ename": "FileNotFoundError",
     "evalue": "[Errno 2] No such file or directory: 'data/GOES_files'",
     "output_type": "error",
     "traceback": [
      "\u001b[0;31m---------------------------------------------------------------------------\u001b[0m",
      "\u001b[0;31mFileNotFoundError\u001b[0m                         Traceback (most recent call last)",
      "\u001b[0;32m/var/folders/22/w9k9dn754d7bwv89pbvgxw080000gn/T/ipykernel_13876/2696090619.py\u001b[0m in \u001b[0;36m<module>\u001b[0;34m\u001b[0m\n\u001b[1;32m     88\u001b[0m \u001b[0;34m\u001b[0m\u001b[0m\n\u001b[1;32m     89\u001b[0m \u001b[0mnc_folder\u001b[0m \u001b[0;34m=\u001b[0m \u001b[0;34m'data/GOES_files'\u001b[0m \u001b[0;31m# define folder where .nc files are located\u001b[0m\u001b[0;34m\u001b[0m\u001b[0;34m\u001b[0m\u001b[0m\n\u001b[0;32m---> 90\u001b[0;31m \u001b[0mlon\u001b[0m\u001b[0;34m,\u001b[0m\u001b[0mlat\u001b[0m \u001b[0;34m=\u001b[0m \u001b[0mlat_lon_reproj\u001b[0m\u001b[0;34m(\u001b[0m\u001b[0mnc_folder\u001b[0m\u001b[0;34m)\u001b[0m\u001b[0;34m\u001b[0m\u001b[0;34m\u001b[0m\u001b[0m\n\u001b[0m\u001b[1;32m     91\u001b[0m \u001b[0;34m\u001b[0m\u001b[0m\n\u001b[1;32m     92\u001b[0m \u001b[0mfile_indx\u001b[0m \u001b[0;34m=\u001b[0m \u001b[0;36m10\u001b[0m \u001b[0;31m# be sure to pick the correct file. Make sure the file is not too big either,\u001b[0m\u001b[0;34m\u001b[0m\u001b[0;34m\u001b[0m\u001b[0m\n",
      "\u001b[0;32m/var/folders/22/w9k9dn754d7bwv89pbvgxw080000gn/T/ipykernel_13876/2696090619.py\u001b[0m in \u001b[0;36mlat_lon_reproj\u001b[0;34m(nc_folder)\u001b[0m\n\u001b[1;32m      8\u001b[0m \u001b[0;34m\u001b[0m\u001b[0m\n\u001b[1;32m      9\u001b[0m \u001b[0;32mdef\u001b[0m \u001b[0mlat_lon_reproj\u001b[0m\u001b[0;34m(\u001b[0m\u001b[0mnc_folder\u001b[0m\u001b[0;34m)\u001b[0m\u001b[0;34m:\u001b[0m\u001b[0;34m\u001b[0m\u001b[0;34m\u001b[0m\u001b[0m\n\u001b[0;32m---> 10\u001b[0;31m     \u001b[0mos\u001b[0m\u001b[0;34m.\u001b[0m\u001b[0mchdir\u001b[0m\u001b[0;34m(\u001b[0m\u001b[0mnc_folder\u001b[0m\u001b[0;34m)\u001b[0m\u001b[0;34m\u001b[0m\u001b[0;34m\u001b[0m\u001b[0m\n\u001b[0m\u001b[1;32m     11\u001b[0m     \u001b[0mfull_direc\u001b[0m \u001b[0;34m=\u001b[0m \u001b[0mos\u001b[0m\u001b[0;34m.\u001b[0m\u001b[0mlistdir\u001b[0m\u001b[0;34m(\u001b[0m\u001b[0;34m)\u001b[0m\u001b[0;34m\u001b[0m\u001b[0;34m\u001b[0m\u001b[0m\n\u001b[1;32m     12\u001b[0m     \u001b[0mnc_files\u001b[0m \u001b[0;34m=\u001b[0m \u001b[0;34m[\u001b[0m\u001b[0mii\u001b[0m \u001b[0;32mfor\u001b[0m \u001b[0mii\u001b[0m \u001b[0;32min\u001b[0m \u001b[0mfull_direc\u001b[0m \u001b[0;32mif\u001b[0m \u001b[0mii\u001b[0m\u001b[0;34m.\u001b[0m\u001b[0mendswith\u001b[0m\u001b[0;34m(\u001b[0m\u001b[0;34m'.nc'\u001b[0m\u001b[0;34m)\u001b[0m\u001b[0;34m]\u001b[0m\u001b[0;34m\u001b[0m\u001b[0;34m\u001b[0m\u001b[0m\n",
      "\u001b[0;31mFileNotFoundError\u001b[0m: [Errno 2] No such file or directory: 'data/GOES_files'"
     ]
    }
   ],
   "source": [
    "from netCDF4 import Dataset\n",
    "import matplotlib as mpl\n",
    "mpl.use('TkAgg')\n",
    "import matplotlib.pyplot as plt\n",
    "from mpl_toolkits.basemap import Basemap, cm\n",
    "import numpy as np\n",
    "import os\n",
    "\n",
    "def lat_lon_reproj(nc_folder):\n",
    "    os.chdir(nc_folder)\n",
    "    full_direc = os.listdir()\n",
    "    nc_files = [ii for ii in full_direc if ii.endswith('.nc')]\n",
    "    g16_data_file = nc_files[0] # select .nc file\n",
    "    print(nc_files[0]) # print file name\n",
    "\n",
    "    # designate dataset\n",
    "    g16nc = Dataset(g16_data_file, 'r')\n",
    "    var_names = [ii for ii in g16nc.variables]\n",
    "    var_name = var_names[0]\n",
    "\n",
    "    # GOES-R projection info and retrieving relevant constants\n",
    "    proj_info = g16nc.variables['goes_imager_projection']\n",
    "    lon_origin = proj_info.longitude_of_projection_origin\n",
    "    H = proj_info.perspective_point_height+proj_info.semi_major_axis\n",
    "    r_eq = proj_info.semi_major_axis\n",
    "    r_pol = proj_info.semi_minor_axis\n",
    "\n",
    "    # grid info\n",
    "    lat_rad_1d = g16nc.variables['x'][:]\n",
    "    lon_rad_1d = g16nc.variables['y'][:]\n",
    "    \n",
    "    # close file when finished\n",
    "    g16nc.close()\n",
    "    g16nc = None\n",
    "\n",
    "    # create meshgrid filled with radian angles\n",
    "    lat_rad,lon_rad = np.meshgrid(lat_rad_1d,lon_rad_1d)\n",
    "\n",
    "    # lat/lon calc routine from satellite radian angle vectors\n",
    "\n",
    "    lambda_0 = (lon_origin*np.pi)/180.0\n",
    "\n",
    "    a_var = np.power(np.sin(lat_rad),2.0) + (np.power(np.cos(lat_rad),2.0)*(np.power(np.cos(lon_rad),2.0)+(((r_eq*r_eq)/(r_pol*r_pol))*np.power(np.sin(lon_rad),2.0))))\n",
    "    b_var = -2.0*H*np.cos(lat_rad)*np.cos(lon_rad)\n",
    "    c_var = (H**2.0)-(r_eq**2.0)\n",
    "\n",
    "    r_s = (-1.0*b_var - np.sqrt((b_var**2)-(4.0*a_var*c_var)))/(2.0*a_var)\n",
    "\n",
    "    s_x = r_s*np.cos(lat_rad)*np.cos(lon_rad)\n",
    "    s_y = - r_s*np.sin(lat_rad)\n",
    "    s_z = r_s*np.cos(lat_rad)*np.sin(lon_rad)\n",
    "\n",
    "    # latitude and longitude projection for plotting data on traditional lat/lon maps\n",
    "    lat = (180.0/np.pi)*(np.arctan(((r_eq*r_eq)/(r_pol*r_pol))*((s_z/np.sqrt(((H-s_x)*(H-s_x))+(s_y*s_y))))))\n",
    "    lon = (lambda_0 - np.arctan(s_y/(H-s_x)))*(180.0/np.pi)\n",
    "\n",
    "#     os.chdir('../')\n",
    "\n",
    "    return lon,lat\n",
    "\n",
    "def data_grab(nc_folder,nc_indx):\n",
    "    os.chdir(nc_folder)\n",
    "    full_direc = os.listdir()\n",
    "    nc_files = [ii for ii in full_direc if ii.endswith('.nc')]\n",
    "    g16_data_file = nc_files[nc_indx] # select .nc file\n",
    "    print(nc_files[nc_indx]) # print file name\n",
    "\n",
    "    # designate dataset\n",
    "    g16nc = Dataset(g16_data_file, 'r')\n",
    "    var_names = [ii for ii in g16nc.variables]\n",
    "    var_name = var_names[0]\n",
    "\n",
    "    # data info    \n",
    "    data = g16nc.variables[var_name][:]\n",
    "    data_units = g16nc.variables[var_name].units\n",
    "    data_time_grab = ((g16nc.time_coverage_end).replace('T',' ')).replace('Z','')\n",
    "    data_long_name = g16nc.variables[var_name].long_name\n",
    "    \n",
    "    # close file when finished\n",
    "    g16nc.close()\n",
    "    g16nc = None\n",
    "\n",
    "#     os.chdir('../')\n",
    "    # print test coordinates\n",
    "    print('{} N, {} W'.format(lat[318,1849],abs(lon[318,1849])))\n",
    "\n",
    "    return data,data_units,data_time_grab,data_long_name,var_name\n",
    "\n",
    "nc_folder = 'data/GOES_files' # define folder where .nc files are located\n",
    "lon,lat = lat_lon_reproj(nc_folder)\n",
    "\n",
    "file_indx = 10 # be sure to pick the correct file. Make sure the file is not too big either,\n",
    "# some of the bands create large files (stick to band 7-16)\n",
    "\n",
    "data,data_units,data_time_grab,data_long_name,var_name = data_grab('data/GOES_files',file_indx)\n",
    "# main data grab from function above\n",
    "\n",
    "data_bounds = np.where(data.data!=65535)\n",
    "bbox = [np.min(lon[data_bounds]),\n",
    "        np.min(lat[data_bounds]),\n",
    "        np.max(lon[data_bounds]),\n",
    "        np.max(lat[data_bounds])] # set bounds for plotting\n",
    "\n",
    "# figure routine for visualization\n",
    "fig = plt.figure(figsize=(9,4),dpi=200)\n",
    "\n",
    "n_add = 0 # for zooming in and out\n",
    "m = Basemap(llcrnrlon=bbox[0]-n_add,llcrnrlat=bbox[1]-n_add,urcrnrlon=bbox[2]+n_add,urcrnrlat=bbox[3]+n_add,resolution='i', projection='cyl')\n",
    "m.fillcontinents(color='#d9b38c',lake_color='#bdd5d5',zorder=1) # continent colors\n",
    "m.drawmapboundary(fill_color='#bdd5d5',zorder=0) # ocean color\n",
    "m.drawcoastlines(linewidth=0.5)\n",
    "m.drawcountries(linewidth=0.25)\n",
    "m.drawstates(zorder=2)\n",
    "m.pcolormesh(lon.data, lat.data, data, latlon=True,zorder=999) # plotting actual LST data\n",
    "# parallels = np.linspace(bbox[1],bbox[3],5.)\n",
    "# m.drawparallels(parallels,labels=[True,False,False,False],zorder=2,fontsize=8)\n",
    "# meridians = np.linspace(bbox[0],bbox[2],5.)\n",
    "# m.drawmeridians(meridians,labels=[False,False,False,True],zorder=1,fontsize=8)\n",
    "cb = m.colorbar()\n",
    "\n",
    "data_units = ((data_units.replace('-','^{-')).replace('1','1}')).replace('2','2}')\n",
    "plt.rc('text', usetex=True)\n",
    "cb.set_label(r'%s $ \\left[ \\mathrm \\right] $'% (var_name,data_units))\n",
    "plt.title(' on '.format(data_long_name,data_time_grab))\n",
    "plt.tight_layout()\n",
    "\n",
    "plt.savefig('goes_16_data_demo.png',dpi=200,facecolor=[252/255,252/255,252/255]) # uncomment to save figure\n",
    "plt.show()\n"
   ]
  },
  {
   "cell_type": "code",
   "execution_count": null,
   "id": "6740d260",
   "metadata": {},
   "outputs": [],
   "source": []
  }
 ],
 "metadata": {
  "kernelspec": {
   "display_name": "Python 3 (ipykernel)",
   "language": "python",
   "name": "python3"
  },
  "language_info": {
   "codemirror_mode": {
    "name": "ipython",
    "version": 3
   },
   "file_extension": ".py",
   "mimetype": "text/x-python",
   "name": "python",
   "nbconvert_exporter": "python",
   "pygments_lexer": "ipython3",
   "version": "3.8.12"
  }
 },
 "nbformat": 4,
 "nbformat_minor": 5
}
