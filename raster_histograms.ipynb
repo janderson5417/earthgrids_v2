{
 "cells": [
  {
   "cell_type": "code",
   "execution_count": 121,
   "id": "150c4dad",
   "metadata": {},
   "outputs": [],
   "source": [
    "import rasterio\n",
    "from rasterio import features\n",
    "from rasterio import mask\n",
    "from rasterio.plot import show\n",
    "from rasterio.plot import show_hist\n",
    "import os\n",
    "import json\n",
    "import pandas as pd\n",
    "import geopandas as gpd\n",
    "import pandas as pd\n",
    "import numpy as np\n",
    "import fiona"
   ]
  },
  {
   "cell_type": "code",
   "execution_count": 21,
   "id": "5226aeb8",
   "metadata": {},
   "outputs": [],
   "source": [
    "%matplotlib inline\n",
    "import matplotlib.pyplot as plt"
   ]
  },
  {
   "cell_type": "markdown",
   "id": "6f5957dd",
   "metadata": {},
   "source": [
    "### Crop raster to LA County outline"
   ]
  },
  {
   "cell_type": "code",
   "execution_count": 15,
   "id": "3eaea1e4",
   "metadata": {},
   "outputs": [],
   "source": [
    "with fiona.open('data/County_Boundary.geojson', \"r\") as shapefile:\n",
    "    shapes = [feature['geometry'] for feature in shapefile]"
   ]
  },
  {
   "cell_type": "code",
   "execution_count": 16,
   "id": "98c0aef9",
   "metadata": {},
   "outputs": [
    {
     "data": {
      "text/plain": [
       "list"
      ]
     },
     "execution_count": 16,
     "metadata": {},
     "output_type": "execute_result"
    }
   ],
   "source": [
    "type(shapes)"
   ]
  },
  {
   "cell_type": "code",
   "execution_count": 124,
   "id": "7b17b35b",
   "metadata": {},
   "outputs": [],
   "source": [
    "src = rasterio.open(r'data/crs/trees_latlong.tif')\n",
    "src_meta = src.meta.copy()\n",
    "src_affine = src_meta.get('transform')"
   ]
  },
  {
   "cell_type": "code",
   "execution_count": 109,
   "id": "f3ab4123",
   "metadata": {},
   "outputs": [
    {
     "data": {
      "text/plain": [
       "(10473, 17599)"
      ]
     },
     "execution_count": 109,
     "metadata": {},
     "output_type": "execute_result"
    }
   ],
   "source": [
    "src.shape"
   ]
  },
  {
   "cell_type": "code",
   "execution_count": 110,
   "id": "842d6cd8",
   "metadata": {},
   "outputs": [],
   "source": [
    "# out_img, out_transform = mask(raster=src, shapes=coords, crop=True)"
   ]
  },
  {
   "cell_type": "code",
   "execution_count": 111,
   "id": "5c5ef6ab",
   "metadata": {},
   "outputs": [],
   "source": [
    "out_img, out_transform = rasterio.mask.mask(src, shapes, all_touched = False, invert = False, nodata = None, \n",
    "                                            filled = True, crop = True, pad = False, \n",
    "                                            pad_width = 0.5, indexes = None)"
   ]
  },
  {
   "cell_type": "code",
   "execution_count": 112,
   "id": "f7cb74e2",
   "metadata": {},
   "outputs": [],
   "source": [
    "out_meta = src.meta.copy()"
   ]
  },
  {
   "cell_type": "code",
   "execution_count": 113,
   "id": "12ebf183",
   "metadata": {},
   "outputs": [
    {
     "data": {
      "text/plain": [
       "{'driver': 'GTiff',\n",
       " 'dtype': 'int16',\n",
       " 'nodata': -32768.0,\n",
       " 'width': 17599,\n",
       " 'height': 10473,\n",
       " 'count': 1,\n",
       " 'crs': CRS.from_epsg(4326),\n",
       " 'transform': Affine(0.00024335671691573372, 0.0, -120.072950519,\n",
       "        0.0, -0.0003227497485916166, 35.592335219)}"
      ]
     },
     "execution_count": 113,
     "metadata": {},
     "output_type": "execute_result"
    }
   ],
   "source": [
    "out_meta"
   ]
  },
  {
   "cell_type": "code",
   "execution_count": 114,
   "id": "2f9d80fe",
   "metadata": {},
   "outputs": [
    {
     "data": {
      "text/plain": [
       "(1, 6285, 5336)"
      ]
     },
     "execution_count": 114,
     "metadata": {},
     "output_type": "execute_result"
    }
   ],
   "source": [
    "out_img.shape"
   ]
  },
  {
   "cell_type": "code",
   "execution_count": 115,
   "id": "90a9d9a1",
   "metadata": {},
   "outputs": [],
   "source": [
    "out_meta.update({\"driver\": \"GTiff\",\n",
    "                 \"height\": out_img.shape[0],\n",
    "                 \"width\": out_img.shape[1],\n",
    "                 \"transform\": src_affine}\n",
    "               )"
   ]
  },
  {
   "cell_type": "code",
   "execution_count": 116,
   "id": "c4c7cb15",
   "metadata": {},
   "outputs": [],
   "source": [
    "out_tif = r'data/cropped/trees.tif'"
   ]
  },
  {
   "cell_type": "code",
   "execution_count": 117,
   "id": "d2d9f22d",
   "metadata": {},
   "outputs": [],
   "source": [
    "with rasterio.open(out_tif, 'w', **src_cr_meta) as dest:\n",
    "    dest.write(out_img)"
   ]
  },
  {
   "cell_type": "code",
   "execution_count": 118,
   "id": "24504d43",
   "metadata": {},
   "outputs": [],
   "source": [
    "tree_cl = rasterio.open(r'data/cropped/trees.tif')"
   ]
  },
  {
   "cell_type": "code",
   "execution_count": 122,
   "id": "9f79ab1d",
   "metadata": {},
   "outputs": [
    {
     "data": {
      "image/png": "[encoded data removed]",
      "text/plain": [
       "<Figure size 432x288 with 1 Axes>"
      ]
     },
     "metadata": {
      "needs_background": "light"
     },
     "output_type": "display_data"
    }
   ],
   "source": [
    "show_hist(tree_cl, bins=50, lw=0.0, stacked = False, histtype = 'stepfilled', \n",
    "          title = 'Aggregated Tree Canopy Distribution')"
   ]
  },
  {
   "cell_type": "markdown",
   "id": "c15d3472",
   "metadata": {},
   "source": [
    "### Wrong file!!"
   ]
  }
 ],
 "metadata": {
  "kernelspec": {
   "display_name": "Python 3 (ipykernel)",
   "language": "python",
   "name": "python3"
  },
  "language_info": {
   "codemirror_mode": {
    "name": "ipython",
    "version": 3
   },
   "file_extension": ".py",
   "mimetype": "text/x-python",
   "name": "python",
   "nbconvert_exporter": "python",
   "pygments_lexer": "ipython3",
   "version": "3.8.12"
  }
 },
 "nbformat": 4,
 "nbformat_minor": 5
}
