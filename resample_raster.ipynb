{
 "cells": [
  {
   "cell_type": "code",
   "execution_count": 13,
   "id": "f7983460",
   "metadata": {},
   "outputs": [],
   "source": [
    "import rasterio\n",
    "import os\n",
    "import json\n",
    "import numpy as np\n",
    "import geopandas as gpd\n",
    "import rasterio"
   ]
  },
  {
   "cell_type": "code",
   "execution_count": 6,
   "id": "ad12dcdb",
   "metadata": {},
   "outputs": [],
   "source": [
    "import rioxarray as rxr\n",
    "from shapely.geometry import Polygon\n",
    "import pysal as ps\n",
    "import mapclassify as mc\n",
    "import pyproj\n",
    "from rasterio.enums import Resampling"
   ]
  },
  {
   "cell_type": "code",
   "execution_count": 11,
   "id": "f952d378",
   "metadata": {},
   "outputs": [],
   "source": [
    "%matplotlib inline\n",
    "import matplotlib.pyplot as plt\n",
    "import contextily as cx\n",
    "from shapely.geometry import Polygon\n",
    "from mapclassify import classify\n",
    "from pyproj import CRS"
   ]
  },
  {
   "cell_type": "code",
   "execution_count": 4,
   "id": "9d365544",
   "metadata": {},
   "outputs": [],
   "source": [
    "data_pkg_path = 'data'\n",
    "impv_dir = 'impv'\n",
    "impv_file = 'NLCD_2019_Impervious_L48_20210604_rNuMWD3Z0SuUkIIVRc8K.tiff'\n",
    "impv_path = os.path.join(data_pkg_path, impv_dir, impv_file)"
   ]
  },
  {
   "cell_type": "code",
   "execution_count": 33,
   "id": "6e04a0b4",
   "metadata": {},
   "outputs": [],
   "source": [
    "impv = rasterio.open(impv_path)"
   ]
  },
  {
   "cell_type": "code",
   "execution_count": 34,
   "id": "2c4a967f",
   "metadata": {},
   "outputs": [
    {
     "data": {
      "text/plain": [
       "rasterio.io.DatasetReader"
      ]
     },
     "execution_count": 34,
     "metadata": {},
     "output_type": "execute_result"
    }
   ],
   "source": [
    "type(impv)"
   ]
  },
  {
   "cell_type": "code",
   "execution_count": 36,
   "id": "77b8bd6d",
   "metadata": {},
   "outputs": [],
   "source": [
    "upscale_factor = 0.5\n",
    "\n",
    "with rasterio.open('data/impv/NLCD_2019_Impervious_L48_20210604_rNuMWD3Z0SuUkIIVRc8K.tiff') as dataset:\n",
    "\n",
    "    # resample data to target shape\n",
    "    data = dataset.read(\n",
    "        out_shape=(\n",
    "            dataset.count,\n",
    "            int(dataset.height * upscale_factor),\n",
    "            int(dataset.width * upscale_factor)\n",
    "        ),\n",
    "        resampling=Resampling.bilinear\n",
    "    )\n",
    "\n",
    "    # scale image transform\n",
    "    transform = dataset.transform * dataset.transform.scale(\n",
    "        (dataset.width / data.shape[-1]),\n",
    "        (dataset.height / data.shape[-2])\n",
    "    )"
   ]
  },
  {
   "cell_type": "code",
   "execution_count": 37,
   "id": "42c5a123",
   "metadata": {},
   "outputs": [
    {
     "data": {
      "text/plain": [
       "rasterio.io.DatasetReader"
      ]
     },
     "execution_count": 37,
     "metadata": {},
     "output_type": "execute_result"
    }
   ],
   "source": [
    "type(dataset)"
   ]
  },
  {
   "cell_type": "code",
   "execution_count": null,
   "id": "7d452bbe",
   "metadata": {},
   "outputs": [],
   "source": []
  }
 ],
 "metadata": {
  "kernelspec": {
   "display_name": "Python 3 (ipykernel)",
   "language": "python",
   "name": "python3"
  },
  "language_info": {
   "codemirror_mode": {
    "name": "ipython",
    "version": 3
   },
   "file_extension": ".py",
   "mimetype": "text/x-python",
   "name": "python",
   "nbconvert_exporter": "python",
   "pygments_lexer": "ipython3",
   "version": "3.8.12"
  }
 },
 "nbformat": 4,
 "nbformat_minor": 5
}
